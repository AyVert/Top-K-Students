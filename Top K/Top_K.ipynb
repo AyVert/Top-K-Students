{
 "cells": [
  {
   "attachments": {},
   "cell_type": "markdown",
   "metadata": {},
   "source": [
    "# Top K Algorithm"
   ]
  },
  {
   "cell_type": "code",
   "execution_count": 7,
   "metadata": {},
   "outputs": [],
   "source": [
    "import numpy as np"
   ]
  },
  {
   "cell_type": "code",
   "execution_count": 8,
   "metadata": {},
   "outputs": [
    {
     "name": "stdout",
     "output_type": "stream",
     "text": [
      "[10 53 33 82 72  5 25 58  1 59]\n"
     ]
    }
   ],
   "source": [
    "#This creates 10 random integers between 0-100 \n",
    "group_scores = np.random.randint(101, size = 10)\n",
    "print(group_scores)\n"
   ]
  },
  {
   "cell_type": "code",
   "execution_count": null,
   "metadata": {},
   "outputs": [
    {
     "name": "stdout",
     "output_type": "stream",
     "text": [
      "82\n"
     ]
    }
   ],
   "source": [
    "#Find out top 1 score\n",
    "top_one_score = 0\n",
    "for score in group_scores:\n",
    "    if score > top_one_score:\n",
    "        top_one_score = score\n",
    "print(top_one_score)"
   ]
  },
  {
   "cell_type": "code",
   "execution_count": 4,
   "metadata": {},
   "outputs": [
    {
     "name": "stdout",
     "output_type": "stream",
     "text": [
      "Original scores: [62 35 41 64 24 73 81 54 67 14]\n",
      "Top two scores: [73 81]\n",
      "Time taken: 0.08574999992561061\n"
     ]
    }
   ],
   "source": [
    "#Find out top 2 scores\n",
    "import numpy as np\n",
    "import timeit\n",
    "\n",
    "\n",
    "group_scores = np.random.randint(101, size=10**1)\n",
    "print(\"Original scores:\", group_scores)\n",
    "tic = timeit.default_timer()\n",
    "\n",
    "#Assigns each variable an index number and sorts them\n",
    "#Argsort sorts the elements of an array\n",
    "sorted_indices = np.argsort(group_scores)\n",
    "\n",
    "#Finds the top two scores using sorted indices\n",
    "top_two_scores = group_scores[sorted_indices[-2:]]\n",
    "toc = timeit.default_timer()\n",
    "\n",
    "print(\"Top two scores:\", top_two_scores)\n",
    "\n",
    "#Time is in milliseconds\n",
    "time_taken =(toc - tic)*(1000) \n",
    "print(\"Time taken:\", time_taken)\n"
   ]
  },
  {
   "attachments": {},
   "cell_type": "markdown",
   "metadata": {},
   "source": [
    "Using Sort (Multi Threaded)\n",
    "\n",
    "Size   Time(ms)\n",
    "10e1   0.14\n",
    "10e2   0.141\n",
    "10e3   0.44\n",
    "10e4   1.28\n",
    "10e5   7.14\n",
    "10e6   63.76\n",
    "10e7   718\n",
    "10e8   10051\n",
    "10e9   Timed Out\n",
    "\n"
   ]
  },
  {
   "cell_type": "code",
   "execution_count": 28,
   "metadata": {},
   "outputs": [
    {
     "name": "stdout",
     "output_type": "stream",
     "text": [
      "100\n",
      "100\n",
      "Time taken: 19916.77287499988\n"
     ]
    }
   ],
   "source": [
    "#Find out top 1 scores\n",
    "import numpy as np\n",
    "import timeit\n",
    "\n",
    "group_scores = np.random.randint(101, size=10**8)\n",
    "#print(\"Original scores:\", group_scores)\n",
    "tic = timeit.default_timer()\n",
    "\n",
    "#Find out top 1 score\n",
    "top_one_score = 0\n",
    "top_two_score = 0\n",
    "for score in group_scores:\n",
    "    if score > top_one_score:\n",
    "        top_two_score = top_one_score\n",
    "        top_one_score = score\n",
    "    elif score > top_two_score:\n",
    "        top_two_score = score   \n",
    "\n",
    "\n",
    "toc = timeit.default_timer()\n",
    "print(top_one_score)\n",
    "print(top_two_score)\n",
    "\n",
    "\n",
    "#print(\"Top two scores:\", top_two_scores)\n",
    "\n",
    "#Time is in milliseconds\n",
    "time_taken =(toc - tic)*(1000) \n",
    "print(\"Time taken:\", time_taken)"
   ]
  },
  {
   "attachments": {},
   "cell_type": "markdown",
   "metadata": {},
   "source": [
    "Using Linear Traverse (Single Threaded)\n",
    "\n",
    "Size   Time(ms)\n",
    "10e1   0.168\n",
    "10e2   0.20\n",
    "10e3   0.47\n",
    "10e4   3.19\n",
    "10e5   23.5\n",
    "10e6   197\n",
    "10e7   1981\n",
    "10e8   19916\n",
    "10e9   Timed Out"
   ]
  }
 ],
 "metadata": {
  "kernelspec": {
   "display_name": "base",
   "language": "python",
   "name": "python3"
  },
  "language_info": {
   "codemirror_mode": {
    "name": "ipython",
    "version": 3
   },
   "file_extension": ".py",
   "mimetype": "text/x-python",
   "name": "python",
   "nbconvert_exporter": "python",
   "pygments_lexer": "ipython3",
   "version": "3.10.9"
  },
  "orig_nbformat": 4
 },
 "nbformat": 4,
 "nbformat_minor": 2
}
